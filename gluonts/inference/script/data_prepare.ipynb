{
 "cells": [
  {
   "cell_type": "code",
   "execution_count": null,
   "id": "ee1f7e2d",
   "metadata": {},
   "outputs": [],
   "source": [
    "import json\n",
    "import math\n",
    "import numpy as pd\n",
    "import pandas as pd\n",
    "import matplotlib\n",
    "import matplotlib.pyplot as plt\n",
    "plt.rcParams['agg.path.chunksize'] = 10000\n",
    "plt.rcParams['figure.figsize'] = [12, 8]\n",
    "plt.style.use('ggplot')\n",
    "pd.set_option('display.max_columns', None)\n",
    "pd.set_option('display.float_format', lambda x: f'{x:.3f}')"
   ]
  },
  {
   "cell_type": "code",
   "execution_count": null,
   "id": "719a1cfd",
   "metadata": {},
   "outputs": [],
   "source": [
    "data = pd.read_csv('data/train.csv', parse_dates=['Date'])"
   ]
  },
  {
   "cell_type": "code",
   "execution_count": null,
   "id": "101a04bf",
   "metadata": {},
   "outputs": [],
   "source": [
    "data.info()"
   ]
  },
  {
   "cell_type": "code",
   "execution_count": null,
   "id": "f93d0a38",
   "metadata": {},
   "outputs": [],
   "source": [
    "data.head()"
   ]
  },
  {
   "cell_type": "code",
   "execution_count": null,
   "id": "413a4d8c",
   "metadata": {},
   "outputs": [],
   "source": [
    "freq = '1D'\n",
    "id_feature = 'name'\n",
    "label_feature = 'ConfirmedCases'\n",
    "time_feature = 'Date'\n",
    "sparse_features = []\n",
    "dynamic_dense_features = []\n",
    "start_time = data[time_feature].min()\n",
    "end_time = data[time_feature].max()\n",
    "print('start_time:', start_time)\n",
    "print('end_time:', end_time)"
   ]
  },
  {
   "cell_type": "code",
   "execution_count": null,
   "id": "4e2ec198",
   "metadata": {},
   "outputs": [],
   "source": [
    "def get_timeseries(df, dense_feature):\n",
    "    timeseries = []\n",
    "    df_group = df.groupby([id_feature])\n",
    "    for name, group in df_group:\n",
    "        tmp_df = pd.DataFrame({name: group[dense_feature], time_feature:group[time_feature]})\n",
    "        tmp_df.set_index(time_feature, inplace=True)\n",
    "        if dense_feature == id_feature:\n",
    "            tmp_df = tmp_df.resample(freq).mean()\n",
    "        else:\n",
    "            tmp_df = tmp_df.resample(freq).mean()\n",
    "#         print(tmp_df)\n",
    "        timeseries.append(tmp_df[name])\n",
    "#     print(timeseries)\n",
    "    return timeseries"
   ]
  },
  {
   "cell_type": "code",
   "execution_count": null,
   "id": "5f44fc41",
   "metadata": {},
   "outputs": [],
   "source": [
    "def visualize_timeseries(timeseries, dense_feature):\n",
    "    row_num = math.ceil(len(timeseries)/2)\n",
    "    fig, axs = plt.subplots(min(row_num, 2), 2, figsize=(20, 20), sharex=True)\n",
    "    axx = axs.ravel()\n",
    "    for i in range(0, min(len(timeseries), 4)):\n",
    "        timeseries[i].plot(ax=axx[i])\n",
    "        axx[i].set_xlabel(\"date\")\n",
    "        axx[i].set_ylabel(dense_feature)\n",
    "        axx[i].grid(which='minor', axis='x')"
   ]
  },
  {
   "cell_type": "code",
   "execution_count": null,
   "id": "7876d894",
   "metadata": {},
   "outputs": [],
   "source": [
    "def save_timeseries(timeseries, filename):\n",
    "    with open(filename, 'wb') as fp:\n",
    "        data = [\n",
    "            {\n",
    "                \"start\": str(timeseries[i].index[0]),\n",
    "                \"target\": timeseries[i].tolist()\n",
    "            }\n",
    "            for i in range(len(timeseries))\n",
    "        ]\n",
    "        for d in data:\n",
    "            fp.write(json.dumps(d).replace('NaN', '\"NaN\"').encode(\"utf-8\"))\n",
    "            fp.write(\"\\n\".encode('utf-8'))"
   ]
  },
  {
   "cell_type": "code",
   "execution_count": null,
   "id": "b89d8f3e",
   "metadata": {},
   "outputs": [],
   "source": [
    "!mkdir -p output"
   ]
  },
  {
   "cell_type": "code",
   "execution_count": null,
   "id": "d42223cd",
   "metadata": {},
   "outputs": [],
   "source": [
    "%%time\n",
    "\n",
    "data_timeseries = get_timeseries(data, label_feature)\n",
    "visualize_timeseries(data_timeseries, label_feature)\n",
    "save_timeseries(data_timeseries, 'output/'+label_feature+'.json')"
   ]
  },
  {
   "cell_type": "code",
   "execution_count": null,
   "id": "36529338",
   "metadata": {},
   "outputs": [],
   "source": [
    "DATETIME_START_OF_TRAIN = \"2020-01-22 00:00:00\"\n",
    "DATETIME_END_OF_TRAIN = \"2020-03-28 00:00:00\"\n",
    "DATETIME_START_OF_TEST = DATETIME_END_OF_TRAIN\n",
    "DATETIME_END_OF_TEST = \"2020-04-03 00:00:00\"\n",
    "\n",
    "freq = '1D'\n",
    "prediction_length = 5\n",
    "context_length = prediction_length*10"
   ]
  },
  {
   "cell_type": "code",
   "execution_count": null,
   "id": "ca1f1181",
   "metadata": {},
   "outputs": [],
   "source": [
    "start_dataset = pd.Timestamp(DATETIME_START_OF_TRAIN, freq=freq)\n",
    "end_training = pd.Timestamp(DATETIME_END_OF_TRAIN, freq=freq)\n",
    "start_test = pd.Timestamp(DATETIME_START_OF_TEST, freq=freq)\n",
    "end_test = pd.Timestamp(DATETIME_END_OF_TEST, freq=freq)\n",
    "print('start_dataset:', start_dataset)\n",
    "print('end_training:', end_training)\n",
    "print('start_test:', start_test)\n",
    "print('end_test:', end_test)"
   ]
  },
  {
   "cell_type": "code",
   "execution_count": null,
   "id": "727eb8fe",
   "metadata": {},
   "outputs": [],
   "source": [
    "max_length = 0\n",
    "if freq == '1Min':\n",
    "    max_length = (end_test-start_dataset).days*24*60\n",
    "elif freq == '1H':\n",
    "    max_length = (end_test-start_dataset).days*24\n",
    "elif freq == '1D':\n",
    "    max_length = (end_test-start_dataset).days\n",
    "elif freq == '1M':\n",
    "    year1 = start_dataset.year\n",
    "    month1 = start_dataset.month\n",
    "    year2 = end_test.year\n",
    "    month2 = end_test.month\n",
    "    max_length = (year2-year1)*12+(month2-month1)\n",
    "print('max_length:', max_length)"
   ]
  },
  {
   "cell_type": "code",
   "execution_count": null,
   "id": "fb981173",
   "metadata": {},
   "outputs": [],
   "source": [
    "%%time\n",
    "\n",
    "ids = []\n",
    "data_group = data.groupby(id_feature)\n",
    "cnt = 0\n",
    "for name, group in data_group:\n",
    "    if cnt % 1000 == 0:\n",
    "        print('cnt:', cnt)\n",
    "    cnt += 1\n",
    "    # print(name)\n",
    "    # print(group)\n",
    "    new_name = str(name)\n",
    "    # print(new_name)\n",
    "    ids.append(new_name)\n",
    "\n",
    "num_timeseries = len(ids)\n",
    "print('num_timeseries:', num_timeseries)"
   ]
  },
  {
   "cell_type": "code",
   "execution_count": null,
   "id": "f6a7cc91",
   "metadata": {},
   "outputs": [],
   "source": [
    "training_data = [\n",
    "    {\n",
    "        \"start\": str(data_timeseries[i].index[0]),\n",
    "        \"target\": data_timeseries[i][start_dataset:end_training][:-1].tolist(),  # We use -1, because pandas indexing includes the upper bound \n",
    "#         \"dynamic_feat\": [],\n",
    "#         \"cat\": [],\n",
    "        \"id\": ids[i]\n",
    "    }\n",
    "    for i in range(num_timeseries)\n",
    "]\n",
    "print(len(training_data))\n",
    "print(len(training_data[0]['target']))"
   ]
  },
  {
   "cell_type": "code",
   "execution_count": null,
   "id": "89ed0ef1",
   "metadata": {},
   "outputs": [],
   "source": [
    "test_data = [\n",
    "    {\n",
    "        \"start\": str(data_timeseries[i].index[0]),\n",
    "        \"target\": data_timeseries[i][start_dataset:end_test][:-1].tolist(),  # We use -1, because pandas indexing includes the upper bound \n",
    "#         \"dynamic_feat\": [],\n",
    "#         \"cat\": [],\n",
    "        \"id\": ids[i]\n",
    "    }\n",
    "    for i in range(num_timeseries)\n",
    "]\n",
    "print(len(test_data))\n",
    "print(len(test_data[0]['target']))"
   ]
  },
  {
   "cell_type": "code",
   "execution_count": null,
   "id": "a496a2d6",
   "metadata": {},
   "outputs": [],
   "source": [
    "def write_dicts_to_file(path, data):\n",
    "    with open(path, 'wb') as fp:\n",
    "        for d in data:\n",
    "            fp.write(json.dumps(d).replace('NaN', '\"NaN\"').encode(\"utf-8\"))\n",
    "            fp.write(\"\\n\".encode('utf-8'))"
   ]
  },
  {
   "cell_type": "code",
   "execution_count": null,
   "id": "a32f7bc6",
   "metadata": {},
   "outputs": [],
   "source": [
    "%%time\n",
    "write_dicts_to_file(\"data/train_\"+freq+\".json\", training_data)\n",
    "write_dicts_to_file(\"data/test_\"+freq+\".json\", test_data)"
   ]
  },
  {
   "cell_type": "code",
   "execution_count": null,
   "id": "bdc47515",
   "metadata": {},
   "outputs": [],
   "source": []
  }
 ],
 "metadata": {
  "kernelspec": {
   "display_name": "conda_python3",
   "language": "python",
   "name": "conda_python3"
  },
  "language_info": {
   "codemirror_mode": {
    "name": "ipython",
    "version": 3
   },
   "file_extension": ".py",
   "mimetype": "text/x-python",
   "name": "python",
   "nbconvert_exporter": "python",
   "pygments_lexer": "ipython3",
   "version": "3.6.13"
  }
 },
 "nbformat": 4,
 "nbformat_minor": 5
}
